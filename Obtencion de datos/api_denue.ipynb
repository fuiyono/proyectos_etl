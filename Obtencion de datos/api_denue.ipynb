{
 "cells": [
  {
   "metadata": {},
   "cell_type": "markdown",
   "source": [
    "# API del DENUE\n",
    "### Introducción"
   ],
   "id": "cb5d9d574daf570"
  },
  {
   "metadata": {},
   "cell_type": "markdown",
   "source": [
    "La API del DENUE (Directorio Estadístico Nacional de Unidades Económicas) permite consultar datos de identificación, ubicación, actividad económica y tamaño de más de 5 millones de establecimientos a nivel nacional, por entidad federativa y municipio. Se puede utilizar la API para crear aplicaciones que muestren la información directamente de las bases de datos del INEGI en el preciso momento en que se actualiza.\n",
    "\n",
    "Algunas de sus características son:\n",
    "- Se requiere un token de acceso para realizar consultas a la API del DENUE.\n",
    "- Se puede realizar una consulta a la vez.\n",
    "- Se puede buscar por nombre de establecimiento, actividad económica, entidad federativa, municipio, localidad, código postal, rango de fechas de alta, rango de fechas de actualización, rango de fechas de baja, rango de empleados, rango de ingresos, rango de tamaño de establecimiento, rango de longitud y latitud, y radio de búsqueda.\n",
    "- Se puede filtrar por entidad federativa, municipio, localidad, código postal, rango de fechas de alta, rango de fechas de actualización, rango de fechas de baja, rango de empleados, rango de ingresos, rango de tamaño de establecimiento, rango de longitud y latitud, y radio de búsqueda.\n",
    "- Se puede ordenar por nombre de establecimiento, actividad económica, entidad federativa, municipio, localidad, código postal, rango de fechas de alta, rango de fechas de actualización, rango de fechas de baja, rango de empleados, rango de ingresos, rango de tamaño de establecimiento, rango de longitud y latitud, y radio de búsqueda.\n",
    "- Se puede limitar el número de resultados a mostrar.\n"
   ],
   "id": "6b0afe14768221ef"
  },
  {
   "metadata": {},
   "cell_type": "markdown",
   "source": [
    "### Metodología\n",
    "\n",
    "\n",
    "\n"
   ],
   "id": "5153eda8b6e0766f"
  },
  {
   "metadata": {},
   "cell_type": "markdown",
   "source": [
    "Primer paso para obtener información del DENUE es revisar su documentación oficial. https://www.inegi.org.mx/servicios/api_denue.html. Dentro de la documentación podemos ver las instrucciones para solicitar un token para poder hacer las consultas. \n",
    "\n",
    "Para hacer las primeras pruebas podemos revisar el ejemplo que nos proporcionan en la documentación. "
   ],
   "id": "7306876eeb4b8e50"
  },
  {
   "metadata": {},
   "cell_type": "markdown",
   "source": [
    "Una vez que se obtiene el token podemos hacer pruebas usando algún cliente como POSTMAN o pasar directo a código.\n",
    "\n",
    "En una jupyter notebook importamos primero la biblioteca que vamos a usar, "
   ],
   "id": "3d0a96694a8fbb94"
  },
  {
   "metadata": {
    "collapsed": true,
    "ExecuteTime": {
     "end_time": "2025-02-05T17:47:04.276304Z",
     "start_time": "2025-02-05T17:47:04.263640Z"
    }
   },
   "cell_type": "code",
   "source": [
    "# Importamos la libreria pandas para hacer el concat\n",
    "import pandas as pd\n",
    "# Importamos request para hacer las peticiones \n",
    "import requests\n",
    "# Importamos las excepciones para manejar los errores\n",
    "from requests.exceptions import ConnectionError, HTTPError, Timeout\n",
    "# Importamos dotenv para cargar las variables de entorno\n",
    "from dotenv import load_dotenv\n",
    "# Importamos os para usar las variables de entorno\n",
    "import os\n",
    "\n",
    "# Cargar las variables de entorno\n",
    "load_dotenv()\n"
   ],
   "id": "initial_id",
   "outputs": [
    {
     "data": {
      "text/plain": [
       "True"
      ]
     },
     "execution_count": 26,
     "metadata": {},
     "output_type": "execute_result"
    }
   ],
   "execution_count": 26
  },
  {
   "metadata": {
    "ExecuteTime": {
     "end_time": "2025-02-05T17:47:05.255942Z",
     "start_time": "2025-02-05T17:47:04.343613Z"
    }
   },
   "cell_type": "code",
   "source": [
    "# Token de acceso\n",
    "token = os.getenv('TOKEN')\n",
    "\n",
    "# Coordenadas y radio de búsqueda y término a buscar\n",
    "buscar = \"pizza\"\n",
    "latitud = 19.2848387\n",
    "longitud = -99.6646916\n",
    "radio = 500\n",
    "\n",
    "# Construye la URL de la API\n",
    "url = f\"https://www.inegi.org.mx/app/api/denue/v1/consulta/Buscar/{buscar}/{latitud},{longitud}/{radio}/{token}\"\n",
    "\n",
    "try:\n",
    "    # Realiza la primera solicitud GET\n",
    "    response = requests.get(url)\n",
    "\n",
    "    # Verifica si la solicitud fue exitosa\n",
    "    if response.status_code == 200:\n",
    "        # Convierte la respuesta a formato JSON\n",
    "        data = response.json()\n",
    "\n",
    "        # Verifica si data no está vacío\n",
    "        if data:\n",
    "            # Generar el primer DataFrame\n",
    "            df1 = pd.DataFrame(data)\n",
    "            print(\"Primera consulta:\")\n",
    "            print(df1)\n",
    "        else:\n",
    "            print(\"No se encontraron resultados en la primera consulta.\")\n",
    "    else:\n",
    "        print(f\"Error en la solicitud: {response.status_code}\")\n",
    "except ConnectionError:\n",
    "    print(\"Error de conexión. Por favor, verifica tu conexión a internet.\")\n",
    "except HTTPError as http_err:\n",
    "    print(f\"Error HTTP: {http_err}\")\n",
    "except Timeout:\n",
    "    print(\"La solicitud ha excedido el tiempo de espera.\")\n",
    "except Exception as err:\n",
    "    print(f\"Ha ocurrido un error: {err}\")\n",
    "\n",
    "# Realiza la segunda consulta GET con otro término a buscar\n",
    "buscar2 = \"tacos\"\n",
    "url2 = f\"https://www.inegi.org.mx/app/api/denue/v1/consulta/Buscar/{buscar2}/{latitud},{longitud}/{radio}/{token}\"\n",
    "\n",
    "try:\n",
    "    # Realiza la segunda solicitud GET\n",
    "    response2 = requests.get(url2)\n",
    "\n",
    "    # Verifica si la solicitud fue exitosa\n",
    "    if response2.status_code == 200:\n",
    "        # Convierte la respuesta a formato JSON\n",
    "        data2 = response2.json()\n",
    "\n",
    "        # Verifica si data2 no está vacío\n",
    "        if data2:\n",
    "            # Generar el segundo DataFrame\n",
    "            df2 = pd.DataFrame(data2)\n",
    "            print(\"Segunda consulta:\")\n",
    "            print(df2)\n",
    "        else:\n",
    "            print(\"No se encontraron resultados en la segunda consulta.\")\n",
    "    else:\n",
    "        print(f\"Error en la solicitud: {response2.status_code}\")\n",
    "except ConnectionError:\n",
    "    print(\"Error de conexión. Por favor, verifica tu conexión a internet.\")\n",
    "except HTTPError as http_err:\n",
    "    print(f\"Error HTTP: {http_err}\")\n",
    "except Timeout:\n",
    "    print(\"La solicitud ha excedido el tiempo de espera.\")\n",
    "except Exception as err:\n",
    "    print(f\"Ha ocurrido un error: {err}\")\n",
    "\n",
    "# Combina los dos DataFrames\n",
    "if not df1.empty or not df2.empty:\n",
    "    if df1.empty:\n",
    "        df_combined = df2\n",
    "    elif df2.empty:\n",
    "        df_combined = df1\n",
    "    else:\n",
    "        df_combined = pd.concat([df1, df2], ignore_index=True)\n",
    "    \n",
    "    print(\"DataFrame combinado:\")\n",
    "    print(df_combined)\n",
    "    \n",
    "    # Exportar a CSV\n",
    "    df_combined.to_csv('denue_combined.csv', index=False, encoding='utf-8')\n",
    "else:\n",
    "    print(\"No se pudo combinar los DataFrames debido a que ambos están vacíos.\")"
   ],
   "id": "122e1fa654a2a4b0",
   "outputs": [
    {
     "name": "stdout",
     "output_type": "stream",
     "text": [
      "Primera consulta:\n",
      "Segunda consulta:\n",
      "DataFrame combinado:\n"
     ]
    }
   ],
   "execution_count": 27
  },
  {
   "metadata": {},
   "cell_type": "markdown",
   "source": [
    "### Resultados\n",
    " La API de DENUE es una herramienta para obtener datos que ya se encuentran al menos en una fase previa de limpieza y estructuración. En este caso se obtuvieron dos dataframes con información de establecimientos que venden pizza y tacos en un radio de 500 metros de las coordenadas proporcionadas.\n",
    "\n",
    "\n",
    "\n",
    "\n",
    "\n",
    "### Conclusiones\n",
    "\n",
    "Tener acceso al DENUE a través de consumo de API, es una gran ventaja y los usos que se les pueda dar a esta información es muy basta. Se puede utilizar tanto en estudios de geomarketing, investigación de mercado, distribución de los negocios por zonas, histórico de los comercios, entre otros. \n",
    "\n",
    "\n"
   ],
   "id": "b42d7b69142744d8"
  }
 ],
 "metadata": {
  "kernelspec": {
   "display_name": "Python 3",
   "language": "python",
   "name": "python3"
  },
  "language_info": {
   "codemirror_mode": {
    "name": "ipython",
    "version": 2
   },
   "file_extension": ".py",
   "mimetype": "text/x-python",
   "name": "python",
   "nbconvert_exporter": "python",
   "pygments_lexer": "ipython2",
   "version": "2.7.6"
  }
 },
 "nbformat": 4,
 "nbformat_minor": 5
}
