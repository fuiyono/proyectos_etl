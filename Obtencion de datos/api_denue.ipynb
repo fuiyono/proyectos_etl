{
 "cells": [
  {
   "metadata": {},
   "cell_type": "markdown",
   "source": "# API del DENUE\n",
   "id": "cb5d9d574daf570"
  },
  {
   "metadata": {},
   "cell_type": "markdown",
   "source": "En este ejemplo mostraremos como obtener información de establecimientos cercanos a una ubicación específica utilizando la API del DENUE.",
   "id": "5153eda8b6e0766f"
  },
  {
   "metadata": {
    "collapsed": true,
    "ExecuteTime": {
     "end_time": "2025-02-05T17:47:04.276304Z",
     "start_time": "2025-02-05T17:47:04.263640Z"
    }
   },
   "cell_type": "code",
   "source": [
    "import pandas as pd\n",
    "import requests\n",
    "from requests.exceptions import ConnectionError, HTTPError, Timeout\n",
    "from dotenv import load_dotenv\n",
    "import os\n",
    "\n",
    "# Cargar las variables de entorno\n",
    "load_dotenv()\n"
   ],
   "id": "initial_id",
   "outputs": [
    {
     "data": {
      "text/plain": [
       "True"
      ]
     },
     "execution_count": 26,
     "metadata": {},
     "output_type": "execute_result"
    }
   ],
   "execution_count": 26
  },
  {
   "metadata": {
    "ExecuteTime": {
     "end_time": "2025-02-05T17:47:04.310199Z",
     "start_time": "2025-02-05T17:47:04.303504Z"
    }
   },
   "cell_type": "code",
   "source": "",
   "id": "79af021f5866baeb",
   "outputs": [],
   "execution_count": null
  },
  {
   "metadata": {
    "ExecuteTime": {
     "end_time": "2025-02-05T17:47:05.255942Z",
     "start_time": "2025-02-05T17:47:04.343613Z"
    }
   },
   "cell_type": "code",
   "source": [
    "# Token de acceso\n",
    "token = os.getenv('TOKEN')\n",
    "\n",
    "# Coordenadas y radio de búsqueda\n",
    "buscar = \"pizza\"\n",
    "latitud = 19.2848387\n",
    "longitud = -99.6646916\n",
    "radio = 500\n",
    "\n",
    "# Construye la URL de la API\n",
    "url = f\"https://www.inegi.org.mx/app/api/denue/v1/consulta/Buscar/{buscar}/{latitud},{longitud}/{radio}/{token}\"\n",
    "\n",
    "try:\n",
    "    # Realiza la primera solicitud GET\n",
    "    response = requests.get(url)\n",
    "\n",
    "    # Verifica si la solicitud fue exitosa\n",
    "    if response.status_code == 200:\n",
    "        # Convierte la respuesta a formato JSON\n",
    "        data = response.json()\n",
    "\n",
    "        # Verifica si data no está vacío\n",
    "        if data:\n",
    "            # Generar el primer DataFrame\n",
    "            df1 = pd.DataFrame(data)\n",
    "            print(\"Primera consulta:\")\n",
    "         #   print(df1)\n",
    "        else:\n",
    "            print(\"No se encontraron resultados en la primera consulta.\")\n",
    "    else:\n",
    "        print(f\"Error en la solicitud: {response.status_code}\")\n",
    "except ConnectionError:\n",
    "    print(\"Error de conexión. Por favor, verifica tu conexión a internet.\")\n",
    "except HTTPError as http_err:\n",
    "    print(f\"Error HTTP: {http_err}\")\n",
    "except Timeout:\n",
    "    print(\"La solicitud ha excedido el tiempo de espera.\")\n",
    "except Exception as err:\n",
    "    print(f\"Ha ocurrido un error: {err}\")\n",
    "\n",
    "# Realiza la segunda consulta\n",
    "buscar2 = \"tacos\"\n",
    "url2 = f\"https://www.inegi.org.mx/app/api/denue/v1/consulta/Buscar/{buscar2}/{latitud},{longitud}/{radio}/{token}\"\n",
    "\n",
    "try:\n",
    "    # Realiza la segunda solicitud GET\n",
    "    response2 = requests.get(url2)\n",
    "\n",
    "    # Verifica si la solicitud fue exitosa\n",
    "    if response2.status_code == 200:\n",
    "        # Convierte la respuesta a formato JSON\n",
    "        data2 = response2.json()\n",
    "\n",
    "        # Verifica si data2 no está vacío\n",
    "        if data2:\n",
    "            # Generar el segundo DataFrame\n",
    "            df2 = pd.DataFrame(data2)\n",
    "            print(\"Segunda consulta:\")\n",
    "          #  print(df2)\n",
    "        else:\n",
    "            print(\"No se encontraron resultados en la segunda consulta.\")\n",
    "    else:\n",
    "        print(f\"Error en la solicitud: {response2.status_code}\")\n",
    "except ConnectionError:\n",
    "    print(\"Error de conexión. Por favor, verifica tu conexión a internet.\")\n",
    "except HTTPError as http_err:\n",
    "    print(f\"Error HTTP: {http_err}\")\n",
    "except Timeout:\n",
    "    print(\"La solicitud ha excedido el tiempo de espera.\")\n",
    "except Exception as err:\n",
    "    print(f\"Ha ocurrido un error: {err}\")\n",
    "\n",
    "# Combina los dos DataFrames\n",
    "if not df1.empty or not df2.empty:\n",
    "    if df1.empty:\n",
    "        df_combined = df2\n",
    "    elif df2.empty:\n",
    "        df_combined = df1\n",
    "    else:\n",
    "        df_combined = pd.concat([df1, df2], ignore_index=True)\n",
    "    \n",
    "    print(\"DataFrame combinado:\")\n",
    "   # print(df_combined)\n",
    "    \n",
    "    # Exportar a CSV\n",
    "    df_combined.to_csv('denue_combined.csv', index=False, encoding='utf-8')\n",
    "else:\n",
    "    print(\"No se pudo combinar los DataFrames debido a que ambos están vacíos.\")"
   ],
   "id": "122e1fa654a2a4b0",
   "outputs": [
    {
     "name": "stdout",
     "output_type": "stream",
     "text": [
      "Primera consulta:\n",
      "Segunda consulta:\n",
      "DataFrame combinado:\n"
     ]
    }
   ],
   "execution_count": 27
  }
 ],
 "metadata": {
  "kernelspec": {
   "display_name": "Python 3",
   "language": "python",
   "name": "python3"
  },
  "language_info": {
   "codemirror_mode": {
    "name": "ipython",
    "version": 2
   },
   "file_extension": ".py",
   "mimetype": "text/x-python",
   "name": "python",
   "nbconvert_exporter": "python",
   "pygments_lexer": "ipython2",
   "version": "2.7.6"
  }
 },
 "nbformat": 4,
 "nbformat_minor": 5
}
