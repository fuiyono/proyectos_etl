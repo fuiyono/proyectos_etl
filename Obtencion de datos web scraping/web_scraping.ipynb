{
 "cells": [
  {
   "cell_type": "code",
   "id": "initial_id",
   "metadata": {
    "collapsed": true,
    "ExecuteTime": {
     "end_time": "2025-02-06T22:35:32.907751Z",
     "start_time": "2025-02-06T22:35:32.903277Z"
    }
   },
   "source": [
    "import scrapy\n",
    "from anaconda_project.requirements_registry.network_util import urlparse\n",
    "from scrapy import Selector"
   ],
   "outputs": [],
   "execution_count": 16
  },
  {
   "metadata": {
    "ExecuteTime": {
     "end_time": "2025-02-06T22:36:18.267024Z",
     "start_time": "2025-02-06T22:36:18.261458Z"
    }
   },
   "cell_type": "code",
   "source": [
    "html =  '''\n",
    "<html>\n",
    "\t<body>\n",
    "\t\t<div class=\"Hello mcd\">\n",
    "\t\t\t<p>Hello World!</p>\n",
    "\t\t</div>\n",
    "\t\t<p>Gracias por ver estas clases</p>\n",
    "\t</body>\n",
    "</html>\n",
    "'''\n",
    "     "
   ],
   "id": "57f7364164c6148d",
   "outputs": [],
   "execution_count": 21
  },
  {
   "metadata": {
    "ExecuteTime": {
     "end_time": "2025-02-06T22:36:22.144099Z",
     "start_time": "2025-02-06T22:36:22.138462Z"
    }
   },
   "cell_type": "code",
   "source": "sel = Selector(text=html)",
   "id": "ecf876d0112491f0",
   "outputs": [],
   "execution_count": 23
  },
  {
   "metadata": {
    "ExecuteTime": {
     "end_time": "2025-02-06T22:36:41.717629Z",
     "start_time": "2025-02-06T22:36:41.710198Z"
    }
   },
   "cell_type": "code",
   "source": "sel.xpath(\"/html/body/p\")",
   "id": "87028a17e9b47c7f",
   "outputs": [
    {
     "data": {
      "text/plain": [
       "[<Selector query='/html/body/p' data='<p>Gracias por ver estas clases</p>'>]"
      ]
     },
     "execution_count": 30,
     "metadata": {},
     "output_type": "execute_result"
    }
   ],
   "execution_count": 30
  },
  {
   "metadata": {
    "ExecuteTime": {
     "end_time": "2025-02-06T22:36:43.803238Z",
     "start_time": "2025-02-06T22:36:43.794992Z"
    }
   },
   "cell_type": "code",
   "source": "sel.xpath(\"/html/body/p\").extract()",
   "id": "746f63a860ab77eb",
   "outputs": [
    {
     "data": {
      "text/plain": [
       "['<p>Gracias por ver estas clases</p>']"
      ]
     },
     "execution_count": 31,
     "metadata": {},
     "output_type": "execute_result"
    }
   ],
   "execution_count": 31
  },
  {
   "metadata": {
    "ExecuteTime": {
     "end_time": "2025-02-07T04:30:15.321060Z",
     "start_time": "2025-02-07T04:30:14.369207Z"
    }
   },
   "cell_type": "code",
   "source": [
    "import requests\n",
    "\n",
    "url = 'https://www.farmaciasdesimilares.com/aparato-respiratorio/antigripal'\n",
    "\n",
    "html = requests.get(url).content"
   ],
   "id": "80d9fb2a0a7017c5",
   "outputs": [],
   "execution_count": 67
  },
  {
   "metadata": {
    "ExecuteTime": {
     "end_time": "2025-02-07T04:33:16.824394Z",
     "start_time": "2025-02-07T04:33:16.800346Z"
    }
   },
   "cell_type": "code",
   "source": [
    "sel = Selector(text=html)\n",
    "\n",
    "xpath = '//item'\n",
    "\n",
    "sel.xpath(xpath).extract()"
   ],
   "id": "c89ad161b3edab9a",
   "outputs": [
    {
     "data": {
      "text/plain": [
       "[]"
      ]
     },
     "execution_count": 69,
     "metadata": {},
     "output_type": "execute_result"
    }
   ],
   "execution_count": 69
  },
  {
   "metadata": {
    "ExecuteTime": {
     "end_time": "2025-02-07T04:23:26.138064Z",
     "start_time": "2025-02-07T04:23:26.002624Z"
    }
   },
   "cell_type": "code",
   "source": [
    "import requests\n",
    "from scrapy import Selector\n",
    "\n",
    "headers = {\n",
    "    \"User-Agent\": \"Mozilla/5.0 (Windows NT 10.0; Win64; x64) AppleWebKit/537.36 (KHTML, like Gecko) Chrome/120.0.0.0 Safari/537.36\"\n",
    "}\n",
    "\n",
    "url = \"https://www.vivanuncios.com.mx/s-venta-inmuebles/toluca/v1c1097l10758p1\"\n",
    "response = requests.get(url, headers=headers)\n",
    "\n",
    "sel = Selector(text=response.text)\n",
    "print(sel.xpath('//title/text()').get())  # Para verificar que el contenido es correcto\n"
   ],
   "id": "4865293a44fbdeeb",
   "outputs": [
    {
     "name": "stdout",
     "output_type": "stream",
     "text": [
      "Just a moment...\n"
     ]
    }
   ],
   "execution_count": 63
  },
  {
   "metadata": {
    "ExecuteTime": {
     "end_time": "2025-02-07T04:22:27.690230Z",
     "start_time": "2025-02-07T04:22:27.557030Z"
    }
   },
   "cell_type": "code",
   "source": [
    "session = requests.Session()\n",
    "session.headers.update(headers)\n",
    "\n",
    "response = session.get(url)\n",
    "sel = Selector(text=response.text)\n",
    "\n",
    "print(sel.xpath('//title/text()').get())\n"
   ],
   "id": "6b376f7e9b692621",
   "outputs": [
    {
     "name": "stdout",
     "output_type": "stream",
     "text": [
      "Just a moment...\n"
     ]
    }
   ],
   "execution_count": 60
  },
  {
   "metadata": {
    "ExecuteTime": {
     "end_time": "2025-02-07T04:22:39.758414Z",
     "start_time": "2025-02-07T04:22:30.210007Z"
    }
   },
   "cell_type": "code",
   "source": [
    "from selenium import webdriver\n",
    "from selenium.webdriver.chrome.service import Service\n",
    "from selenium.webdriver.chrome.options import Options\n",
    "from webdriver_manager.chrome import ChromeDriverManager\n",
    "from scrapy import Selector\n",
    "\n",
    "options = Options()\n",
    "options.add_argument(\"--headless\")  # Para que no abra el navegador\n",
    "options.add_argument(\"--disable-blink-features=AutomationControlled\")\n",
    "\n",
    "driver = webdriver.Chrome(service=Service(ChromeDriverManager().install()), options=options)\n",
    "driver.get(url)\n",
    "\n",
    "sel = Selector(text=driver.page_source)\n",
    "print(sel.xpath('//title/text()').get())\n",
    "\n",
    "driver.quit()\n"
   ],
   "id": "f615925942c06fef",
   "outputs": [
    {
     "name": "stdout",
     "output_type": "stream",
     "text": [
      "Un momento…\n"
     ]
    }
   ],
   "execution_count": 61
  },
  {
   "metadata": {},
   "cell_type": "code",
   "outputs": [],
   "execution_count": null,
   "source": "",
   "id": "379c2eb42fa6c5ac"
  },
  {
   "metadata": {},
   "cell_type": "code",
   "outputs": [],
   "execution_count": null,
   "source": [
    "#crear un csv con los datos de los productos de la página\n",
    "\n",
    "\n"
   ],
   "id": "8850ac0237f8a6d8"
  }
 ],
 "metadata": {
  "kernelspec": {
   "display_name": "Python 3",
   "language": "python",
   "name": "python3"
  },
  "language_info": {
   "codemirror_mode": {
    "name": "ipython",
    "version": 2
   },
   "file_extension": ".py",
   "mimetype": "text/x-python",
   "name": "python",
   "nbconvert_exporter": "python",
   "pygments_lexer": "ipython2",
   "version": "2.7.6"
  }
 },
 "nbformat": 4,
 "nbformat_minor": 5
}
