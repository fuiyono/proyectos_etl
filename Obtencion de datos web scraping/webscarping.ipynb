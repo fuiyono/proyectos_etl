{
 "cells": [
  {
   "metadata": {},
   "cell_type": "markdown",
   "source": [
    "## 2.2 Obtención de datos mediante web scraping\n",
    "\n",
    "### INTRODUCCIÓN\n",
    "\n",
    "El web scraping es una técnica que permite extraer información de páginas web de forma automática. En este caso, se utilizará la librería Scrapy para extraer datos de una tabla en una página web y guardarlos en un archivo CSV.\n",
    "\n",
    "El sitio web seleccionado permite acceder a una tabla con la información de actividad volcánica de 89 volcanes. La tabla contiene los siguientes campos: ID, NOMBRE, PAIS, S02, ANOMALÍA TÉRMICA, DEFORMACIÓN Y FECHA DE ACTUALIZACIÓN. La url de la página web es la siguiente: http://www.mounts-project.com/home, este sitio nos permite consultar, copiar y hacer uso de la información que se encuentra en la página con fines educativos y de investigación.\n",
    "\n",
    "\n",
    "### OBJETIVO\n",
    "El objetivo es extraer los datos de la tabla y guardarlos en un archivo CSV.\n",
    "\n",
    "### METODOLOGÍA\n",
    "1. Importar las librerías necesarias.\n",
    "2. Realizar una petición HTTP a la página web.\n",
    "3. Crear un objeto Selector con el HTML de la página.\n",
    "4. Extraer los encabezados de la tabla.\n",
    "5. Extraer los datos del cuerpo de la tabla.\n",
    "6. Crear un DataFrame de Pandas con los datos extraídos.\n",
    "7. Guardar el DataFrame en un archivo CSV.\n",
    "8. Mostrar un mensaje de confirmación.\n",
    "9. Ejecutar el script.\n",
    "10. Verificar que el archivo CSV se haya generado correctamente."
   ],
   "id": "fa5236670695a4c2"
  },
  {
   "metadata": {
    "ExecuteTime": {
     "end_time": "2025-02-08T20:12:47.607739Z",
     "start_time": "2025-02-08T20:12:44.083775Z"
    }
   },
   "cell_type": "code",
   "source": [
    "# Importar request para hacer la petición HTTP y Selector para extraer los datos\n",
    "import requests\n",
    "# Importar Selector desde Scrapy para extraer los datos\n",
    "from scrapy import Selector\n",
    "# Importar pandas para crear un DataFrame con los datos extraídos\n",
    "import pandas as pd\n",
    "\n",
    "# URL de la página web\n",
    "url = \"http://www.mounts-project.com/home\"\n",
    "response = requests.get(url)\n",
    "\n",
    "# Crear el Selector con el HTML de la página\n",
    "sel = Selector(text=response.text)\n",
    "\n",
    "# Extraer los encabezados de la tabla\n",
    "headers = sel.xpath('//table[@id=\"myTable\"]//th')\n",
    "column_names = [header.xpath('string(.)').get().strip() for header in headers]\n",
    "\n",
    "# Extraer los datos del cuerpo de la tabla\n",
    "rows = sel.xpath('//table[@id=\"myTable\"]//tr')  # Seleccionar todas las filas de la tabla\n",
    "data = []\n",
    "\n",
    "for row in rows:\n",
    "    cells = row.xpath('./td')  # Extraer solo las celdas dentro de la fila\n",
    "    if cells:  # Solo procesar filas que tienen datos\n",
    "        row_data = [cell.xpath('string(.)').get().strip() for cell in cells]\n",
    "        data.append(row_data)\n",
    "\n",
    "# Crear un DataFrame de Pandas\n",
    "df = pd.DataFrame(data, columns=column_names)\n",
    "\n",
    "# Guardar en un archivo CSV\n",
    "df.to_csv('tabla_datos.csv', index=False, encoding='utf-8')\n",
    "\n",
    "print(\"Archivo CSV generado exitosamente.\")\n"
   ],
   "id": "d66481c3a9a38d68",
   "outputs": [
    {
     "name": "stdout",
     "output_type": "stream",
     "text": [
      "Archivo CSV generado exitosamente.\n"
     ]
    }
   ],
   "execution_count": 1
  },
  {
   "metadata": {},
   "cell_type": "markdown",
   "source": [
    "### RESULTADOS\n",
    "\n",
    "El script ha extraído los datos de la tabla y los ha guardado en un archivo CSV llamado \"tabla_datos.csv\". El archivo contiene 89 filas y 6 columnas con la información de actividad volcánica de cada volcán. A continuación, se muestra una vista previa de los datos extraídos:\n",
    "\n",
    "\n"
   ],
   "id": "f76815d25fe4d031"
  },
  {
   "metadata": {
    "ExecuteTime": {
     "end_time": "2025-02-08T20:12:48.549611Z",
     "start_time": "2025-02-08T20:12:48.533397Z"
    }
   },
   "cell_type": "code",
   "source": [
    "# Mostrar una vista previa de los datos extraídos\n",
    "df.head()\n"
   ],
   "id": "7fdeeed64c755589",
   "outputs": [
    {
     "data": {
      "text/plain": [
       "       ID       NAME   COUNTRY SO2 MASS*[tons] THERMAL ANOMALIES*[npix]  \\\n",
       "0  211040  Stromboli     Italy               0                        0   \n",
       "1  211050    Vulcano     Italy               0                        1   \n",
       "2  211060       Etna     Italy              30                       63   \n",
       "3  221080   Erta Ale  Ethiopia               0                       84   \n",
       "4  221190    Fentale  Ethiopia               0                            \n",
       "\n",
       "  DEFORMATION*std.dev [m]        LATEST product  \n",
       "0                       0  2025-02-08 12:36 S5P  \n",
       "1                       0  2025-02-08 12:36 S5P  \n",
       "2                 8.9e-05  2025-02-08 12:36 S5P  \n",
       "3                       0  2025-02-08 10:51 S5P  \n",
       "4                 2.7e-03  2025-02-08 10:51 S5P  "
      ],
      "text/html": [
       "<div>\n",
       "<style scoped>\n",
       "    .dataframe tbody tr th:only-of-type {\n",
       "        vertical-align: middle;\n",
       "    }\n",
       "\n",
       "    .dataframe tbody tr th {\n",
       "        vertical-align: top;\n",
       "    }\n",
       "\n",
       "    .dataframe thead th {\n",
       "        text-align: right;\n",
       "    }\n",
       "</style>\n",
       "<table border=\"1\" class=\"dataframe\">\n",
       "  <thead>\n",
       "    <tr style=\"text-align: right;\">\n",
       "      <th></th>\n",
       "      <th>ID</th>\n",
       "      <th>NAME</th>\n",
       "      <th>COUNTRY</th>\n",
       "      <th>SO2 MASS*[tons]</th>\n",
       "      <th>THERMAL ANOMALIES*[npix]</th>\n",
       "      <th>DEFORMATION*std.dev [m]</th>\n",
       "      <th>LATEST product</th>\n",
       "    </tr>\n",
       "  </thead>\n",
       "  <tbody>\n",
       "    <tr>\n",
       "      <th>0</th>\n",
       "      <td>211040</td>\n",
       "      <td>Stromboli</td>\n",
       "      <td>Italy</td>\n",
       "      <td>0</td>\n",
       "      <td>0</td>\n",
       "      <td>0</td>\n",
       "      <td>2025-02-08 12:36 S5P</td>\n",
       "    </tr>\n",
       "    <tr>\n",
       "      <th>1</th>\n",
       "      <td>211050</td>\n",
       "      <td>Vulcano</td>\n",
       "      <td>Italy</td>\n",
       "      <td>0</td>\n",
       "      <td>1</td>\n",
       "      <td>0</td>\n",
       "      <td>2025-02-08 12:36 S5P</td>\n",
       "    </tr>\n",
       "    <tr>\n",
       "      <th>2</th>\n",
       "      <td>211060</td>\n",
       "      <td>Etna</td>\n",
       "      <td>Italy</td>\n",
       "      <td>30</td>\n",
       "      <td>63</td>\n",
       "      <td>8.9e-05</td>\n",
       "      <td>2025-02-08 12:36 S5P</td>\n",
       "    </tr>\n",
       "    <tr>\n",
       "      <th>3</th>\n",
       "      <td>221080</td>\n",
       "      <td>Erta Ale</td>\n",
       "      <td>Ethiopia</td>\n",
       "      <td>0</td>\n",
       "      <td>84</td>\n",
       "      <td>0</td>\n",
       "      <td>2025-02-08 10:51 S5P</td>\n",
       "    </tr>\n",
       "    <tr>\n",
       "      <th>4</th>\n",
       "      <td>221190</td>\n",
       "      <td>Fentale</td>\n",
       "      <td>Ethiopia</td>\n",
       "      <td>0</td>\n",
       "      <td></td>\n",
       "      <td>2.7e-03</td>\n",
       "      <td>2025-02-08 10:51 S5P</td>\n",
       "    </tr>\n",
       "  </tbody>\n",
       "</table>\n",
       "</div>"
      ]
     },
     "execution_count": 2,
     "metadata": {},
     "output_type": "execute_result"
    }
   ],
   "execution_count": 2
  },
  {
   "metadata": {},
   "cell_type": "markdown",
   "source": [
    "### CONCLUSIÓN\n",
    "Algunas de las aplicaciones de esta información podrían ser el análisis de la actividad volcánica en diferentes países, la identificación de patrones de comportamiento o la predicción de futuras erupciones. El monitoreo de la ceniza volcánica y los gases emitidos por los volcanes es fundamental para la seguridad de las poblaciones cercanas y la aviación."
   ],
   "id": "d48bff0b70e8daf"
  }
 ],
 "metadata": {
  "kernelspec": {
   "display_name": "Python 3",
   "language": "python",
   "name": "python3"
  },
  "language_info": {
   "codemirror_mode": {
    "name": "ipython",
    "version": 2
   },
   "file_extension": ".py",
   "mimetype": "text/x-python",
   "name": "python",
   "nbconvert_exporter": "python",
   "pygments_lexer": "ipython2",
   "version": "2.7.6"
  }
 },
 "nbformat": 4,
 "nbformat_minor": 5
}
