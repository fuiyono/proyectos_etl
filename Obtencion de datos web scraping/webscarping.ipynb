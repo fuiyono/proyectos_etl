{
 "cells": [
  {
   "metadata": {},
   "cell_type": "markdown",
   "source": [
    "# 2.2 Obtención de datos mediante web scraping\n",
    "\n",
    "En este..."
   ],
   "id": "fa5236670695a4c2"
  },
  {
   "metadata": {},
   "cell_type": "markdown",
   "source": "",
   "id": "59f594a2855dc809"
  },
  {
   "metadata": {},
   "cell_type": "code",
   "outputs": [],
   "execution_count": null,
   "source": "",
   "id": "576bda7f47233d90"
  },
  {
   "metadata": {
    "ExecuteTime": {
     "end_time": "2025-02-08T00:09:25.035805Z",
     "start_time": "2025-02-08T00:09:23.327717Z"
    }
   },
   "cell_type": "code",
   "source": [
    "import requests\n",
    "from scrapy import Selector\n",
    "import pandas as pd\n",
    "\n",
    "# URL de la página web\n",
    "url = \"http://www.mounts-project.com/home\"\n",
    "response = requests.get(url)\n",
    "\n",
    "# Crear el Selector con el HTML de la página\n",
    "sel = Selector(text=response.text)\n",
    "\n",
    "# Extraer los encabezados de la tabla\n",
    "headers = sel.xpath('//table[@id=\"myTable\"]//th')\n",
    "column_names = [header.xpath('string(.)').get().strip() for header in headers]\n",
    "\n",
    "# Extraer los datos del cuerpo de la tabla\n",
    "rows = sel.xpath('//table[@id=\"myTable\"]//tr')  # Seleccionar todas las filas de la tabla\n",
    "data = []\n",
    "\n",
    "for row in rows:\n",
    "    cells = row.xpath('./td')  # Extraer solo las celdas dentro de la fila\n",
    "    if cells:  # Solo procesar filas que tienen datos\n",
    "        row_data = [cell.xpath('string(.)').get().strip() for cell in cells]\n",
    "        data.append(row_data)\n",
    "\n",
    "# Crear un DataFrame de Pandas\n",
    "df = pd.DataFrame(data, columns=column_names)\n",
    "\n",
    "# Guardar en un archivo CSV\n",
    "df.to_csv('tabla_datos.csv', index=False, encoding='utf-8')\n",
    "\n",
    "print(\"Archivo CSV generado exitosamente.\")\n"
   ],
   "id": "d66481c3a9a38d68",
   "outputs": [
    {
     "name": "stdout",
     "output_type": "stream",
     "text": [
      "Archivo CSV generado exitosamente.\n"
     ]
    }
   ],
   "execution_count": 21
  }
 ],
 "metadata": {
  "kernelspec": {
   "display_name": "Python 3",
   "language": "python",
   "name": "python3"
  },
  "language_info": {
   "codemirror_mode": {
    "name": "ipython",
    "version": 2
   },
   "file_extension": ".py",
   "mimetype": "text/x-python",
   "name": "python",
   "nbconvert_exporter": "python",
   "pygments_lexer": "ipython2",
   "version": "2.7.6"
  }
 },
 "nbformat": 4,
 "nbformat_minor": 5
}
